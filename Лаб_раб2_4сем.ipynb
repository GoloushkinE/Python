{
  "nbformat": 4,
  "nbformat_minor": 0,
  "metadata": {
    "colab": {
      "provenance": [],
      "authorship_tag": "ABX9TyObTlCdKNHecYNUKhBn1yOA",
      "include_colab_link": true
    },
    "kernelspec": {
      "name": "python3",
      "display_name": "Python 3"
    },
    "language_info": {
      "name": "python"
    }
  },
  "cells": [
    {
      "cell_type": "markdown",
      "metadata": {
        "id": "view-in-github",
        "colab_type": "text"
      },
      "source": [
        "<a href=\"https://colab.research.google.com/github/GoloushkinE/Python/blob/main/%D0%9B%D0%B0%D0%B1_%D1%80%D0%B0%D0%B12_4%D1%81%D0%B5%D0%BC.ipynb\" target=\"_parent\"><img src=\"https://colab.research.google.com/assets/colab-badge.svg\" alt=\"Open In Colab\"/></a>"
      ]
    },
    {
      "cell_type": "code",
      "source": [
        "from google.colab import drive #подключение гугл диска\n",
        "drive.mount ('/content/drive/')\n",
        "%cd /content/drive/MyDrive"
      ],
      "metadata": {
        "colab": {
          "base_uri": "https://localhost:8080/"
        },
        "id": "fV407xR2VwGJ",
        "outputId": "fdca9847-4e2c-44b6-caaa-ba77b9ca09ee"
      },
      "execution_count": 8,
      "outputs": [
        {
          "output_type": "stream",
          "name": "stdout",
          "text": [
            "Drive already mounted at /content/drive/; to attempt to forcibly remount, call drive.mount(\"/content/drive/\", force_remount=True).\n",
            "/content/drive/MyDrive\n"
          ]
        }
      ]
    },
    {
      "cell_type": "code",
      "execution_count": 9,
      "metadata": {
        "id": "dwT-WWGwBa4S"
      },
      "outputs": [],
      "source": [
        "import pandas as pd # Импортировал библиотеку pandas\n",
        "from sklearn.model_selection import train_test_split\n",
        "import matplotlib.pyplot as plt # Импортировал библиотеку pyplot\n",
        "import numpy as np # Импортировал библиотеку numpy\n",
        "\n",
        "\n",
        "from sklearn.impute import SimpleImputer\n",
        "from sklearn.preprocessing import PowerTransformer, StandardScaler\n",
        "from sklearn.pipeline import Pipeline\n",
        "from sklearn.preprocessing import OneHotEncoder\n",
        "from sklearn.compose import ColumnTransformer\n",
        "from xgboost import XGBRegressor\n",
        "from sklearn.preprocessing import StandardScaler\n",
        "from sklearn.preprocessing import RobustScaler\n",
        "from sklearn.model_selection import GridSearchCV\n",
        "import xgboost as xgb\n",
        "\n",
        "\n",
        "\n",
        "# Загрузим данные из файла\n",
        "data = pd.read_csv('/content/drive/MyDrive/Laptop_price.csv')\n",
        "\n",
        "# Выберем столбец Price в качестве целевого\n",
        "y = data['Price']\n",
        "\n",
        "# Удалим столбец Price из X\n",
        "X = data.drop('Price', axis=1)\n",
        "\n",
        "# Сделаем сплит\n",
        "X_train, X_test, y_train, y_test = train_test_split(X, y, test_size=0.2, random_state=42)"
      ]
    },
    {
      "cell_type": "code",
      "source": [
        "num_columns = list(X_train.select_dtypes(exclude=['object']))\n",
        "num_columns"
      ],
      "metadata": {
        "id": "u0vSSDHVLNwZ",
        "colab": {
          "base_uri": "https://localhost:8080/"
        },
        "outputId": "cdc3c4d9-b13c-4263-8758-46823cbf08ec"
      },
      "execution_count": 10,
      "outputs": [
        {
          "output_type": "execute_result",
          "data": {
            "text/plain": [
              "['Processor_Speed', 'RAM_Size', 'Storage_Capacity', 'Screen_Size', 'Weight']"
            ]
          },
          "metadata": {},
          "execution_count": 10
        }
      ]
    },
    {
      "cell_type": "code",
      "source": [
        "cat_columns = list(X_train.select_dtypes(include=['object']))\n",
        "cat_columns"
      ],
      "metadata": {
        "colab": {
          "base_uri": "https://localhost:8080/"
        },
        "id": "PWQp44ezMfKJ",
        "outputId": "39b2cd06-042f-47bd-ce90-d0a7b68c32ee"
      },
      "execution_count": 11,
      "outputs": [
        {
          "output_type": "execute_result",
          "data": {
            "text/plain": [
              "['Brand']"
            ]
          },
          "metadata": {},
          "execution_count": 11
        }
      ]
    },
    {
      "cell_type": "code",
      "source": [
        "numerical = Pipeline(steps=[\n",
        "    (\"simple_imputer\", SimpleImputer()), #подбор стратегии по заполнению пропущенных значений\n",
        "    (\"power_transform\", PowerTransformer()), #приведение данных к нормальному распределению\n",
        "    ('Scaler', StandardScaler())#стандартизирует данные\n",
        "])"
      ],
      "metadata": {
        "id": "quaf5F8ENraQ"
      },
      "execution_count": 12,
      "outputs": []
    },
    {
      "cell_type": "code",
      "source": [
        "categorical = Pipeline(steps=[\n",
        "    (\"simple_imputer\", SimpleImputer(strategy='constant', fill_value='missing')),\n",
        "    (\"OneHotEncoder\", OneHotEncoder(handle_unknown='ignore', # drop = ['first', 'if_binary']\n",
        "                                    sparse_output=False))\n",
        "])\n",
        "\n"
      ],
      "metadata": {
        "id": "ZvHTHqdDQMYe"
      },
      "execution_count": 13,
      "outputs": []
    },
    {
      "cell_type": "code",
      "source": [
        "ct = ColumnTransformer([\n",
        "    (\"numerical\", numerical, num_columns),\n",
        "    (\"categorical\", categorical, cat_columns)\n",
        "])"
      ],
      "metadata": {
        "id": "0rY1Gd45RnVt"
      },
      "execution_count": 14,
      "outputs": []
    },
    {
      "cell_type": "code",
      "source": [
        "pipe = Pipeline(steps=[\n",
        "    (\"ct\", ct),\n",
        "    (\"XGBRegressor\", XGBRegressor(booster=None, callbacks=None,\n",
        "                                  gamma=None, grow_policy=None,\n",
        "                                  importance_type=None, interaction_constraints=None, learning_rate=None,\n",
        "                                  max_bin=None, max_cat_threshold=None, random_state=None))\n",
        "])"
      ],
      "metadata": {
        "id": "fghj48THSqeL"
      },
      "execution_count": 15,
      "outputs": []
    },
    {
      "cell_type": "code",
      "source": [
        "param_grid={\n",
        "    'XGBRegressor__n_estimators':[50],\n",
        "    'XGBRegressor__learning_rate':[0,1],\n",
        "    'ct__numerical': [StandardScaler(),RobustScaler()]# в пайплайне есть инструмент позволяющий оптимизировать подбор нужных гиперпараметров.\n",
        "    #GridSearch - это очень мощный инструмент для автоматического подбирания параметров для моделей машинного обучения.\n",
        "    #GridSearchCV находит наилучшие параметры, путем обычного перебора: он создает модель для каждой возможной комбинации параметров.\n",
        "    #Важно отметить, что такой подход может быть весьма времязатратным\n",
        "\n",
        "}"
      ],
      "metadata": {
        "id": "07-UkgeeS-UT"
      },
      "execution_count": 16,
      "outputs": []
    },
    {
      "cell_type": "code",
      "source": [
        "clf = GridSearchCV(pipe, param_grid, verbose=3)\n",
        "clf.fit(X_train, y_train)\n",
        "\n",
        "clf.score(X_test, y_test)\n",
        "\n",
        "model=clf.best_estimator_\n",
        "clf.best_params_"
      ],
      "metadata": {
        "colab": {
          "base_uri": "https://localhost:8080/"
        },
        "id": "G0sPUC16T-s2",
        "outputId": "8381ed31-45d6-4b51-f6f7-b568f4408f56"
      },
      "execution_count": 17,
      "outputs": [
        {
          "output_type": "stream",
          "name": "stdout",
          "text": [
            "Fitting 5 folds for each of 4 candidates, totalling 20 fits\n",
            "[CV 1/5] END XGBRegressor__learning_rate=0, XGBRegressor__n_estimators=50, ct__numerical=StandardScaler();, score=-0.019 total time=   0.1s\n",
            "[CV 2/5] END XGBRegressor__learning_rate=0, XGBRegressor__n_estimators=50, ct__numerical=StandardScaler();, score=-0.059 total time=   0.0s\n",
            "[CV 3/5] END XGBRegressor__learning_rate=0, XGBRegressor__n_estimators=50, ct__numerical=StandardScaler();, score=-0.032 total time=   0.0s\n",
            "[CV 4/5] END XGBRegressor__learning_rate=0, XGBRegressor__n_estimators=50, ct__numerical=StandardScaler();, score=-0.011 total time=   0.0s\n",
            "[CV 5/5] END XGBRegressor__learning_rate=0, XGBRegressor__n_estimators=50, ct__numerical=StandardScaler();, score=-0.023 total time=   0.1s\n",
            "[CV 1/5] END XGBRegressor__learning_rate=0, XGBRegressor__n_estimators=50, ct__numerical=RobustScaler();, score=-0.019 total time=   0.1s\n",
            "[CV 2/5] END XGBRegressor__learning_rate=0, XGBRegressor__n_estimators=50, ct__numerical=RobustScaler();, score=-0.059 total time=   0.1s\n",
            "[CV 3/5] END XGBRegressor__learning_rate=0, XGBRegressor__n_estimators=50, ct__numerical=RobustScaler();, score=-0.032 total time=   0.0s\n",
            "[CV 4/5] END XGBRegressor__learning_rate=0, XGBRegressor__n_estimators=50, ct__numerical=RobustScaler();, score=-0.011 total time=   0.1s\n",
            "[CV 5/5] END XGBRegressor__learning_rate=0, XGBRegressor__n_estimators=50, ct__numerical=RobustScaler();, score=-0.023 total time=   0.1s\n",
            "[CV 1/5] END XGBRegressor__learning_rate=1, XGBRegressor__n_estimators=50, ct__numerical=StandardScaler();, score=0.999 total time=   0.1s\n",
            "[CV 2/5] END XGBRegressor__learning_rate=1, XGBRegressor__n_estimators=50, ct__numerical=StandardScaler();, score=0.999 total time=   0.1s\n",
            "[CV 3/5] END XGBRegressor__learning_rate=1, XGBRegressor__n_estimators=50, ct__numerical=StandardScaler();, score=0.999 total time=   0.1s\n",
            "[CV 4/5] END XGBRegressor__learning_rate=1, XGBRegressor__n_estimators=50, ct__numerical=StandardScaler();, score=0.999 total time=   0.1s\n",
            "[CV 5/5] END XGBRegressor__learning_rate=1, XGBRegressor__n_estimators=50, ct__numerical=StandardScaler();, score=0.999 total time=   0.1s\n",
            "[CV 1/5] END XGBRegressor__learning_rate=1, XGBRegressor__n_estimators=50, ct__numerical=RobustScaler();, score=0.999 total time=   0.1s\n",
            "[CV 2/5] END XGBRegressor__learning_rate=1, XGBRegressor__n_estimators=50, ct__numerical=RobustScaler();, score=0.999 total time=   0.1s\n",
            "[CV 3/5] END XGBRegressor__learning_rate=1, XGBRegressor__n_estimators=50, ct__numerical=RobustScaler();, score=0.999 total time=   0.1s\n",
            "[CV 4/5] END XGBRegressor__learning_rate=1, XGBRegressor__n_estimators=50, ct__numerical=RobustScaler();, score=0.999 total time=   0.1s\n",
            "[CV 5/5] END XGBRegressor__learning_rate=1, XGBRegressor__n_estimators=50, ct__numerical=RobustScaler();, score=0.999 total time=   0.1s\n"
          ]
        },
        {
          "output_type": "execute_result",
          "data": {
            "text/plain": [
              "{'XGBRegressor__learning_rate': 1,\n",
              " 'XGBRegressor__n_estimators': 50,\n",
              " 'ct__numerical': StandardScaler()}"
            ]
          },
          "metadata": {},
          "execution_count": 17
        }
      ]
    }
  ]
}